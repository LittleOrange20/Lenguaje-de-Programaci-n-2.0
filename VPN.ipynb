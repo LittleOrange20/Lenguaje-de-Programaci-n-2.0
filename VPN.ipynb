{
  "nbformat": 4,
  "nbformat_minor": 0,
  "metadata": {
    "colab": {
      "provenance": [],
      "authorship_tag": "ABX9TyPdgvelWiJuFeTJR8l8V1MB",
      "include_colab_link": true
    },
    "kernelspec": {
      "name": "python3",
      "display_name": "Python 3"
    },
    "language_info": {
      "name": "python"
    }
  },
  "cells": [
    {
      "cell_type": "markdown",
      "metadata": {
        "id": "view-in-github",
        "colab_type": "text"
      },
      "source": [
        "<a href=\"https://colab.research.google.com/github/LittleOrange20/Lenguaje-de-Programaci-n-2.0/blob/main/VPN.ipynb\" target=\"_parent\"><img src=\"https://colab.research.google.com/assets/colab-badge.svg\" alt=\"Open In Colab\"/></a>"
      ]
    },
    {
      "cell_type": "markdown",
      "source": [
        ## Valor presente neto (VPN)\n",
        "\n",
        "*EXPLICACIÓN*\n",
        "\n",
        "El método del Valor Presente Neto incorpora el valor del dinero en el tiempo en la determinación de los flujos de efectivo netos del negocio o proyecto, con el fin de poder hacer comparaciones correctas entre flujos de efectivo en diferentes periodos a lo largo del tiempo.\n",
        "\n",
        "<p align=\"center\">FORMULA VALOR PRESENTE NETO </p>\n",
        "\n",
        "\n",
        "$$VPN = \\sum_{t=0}^{n} \\frac{F_t}{(1+r)^t}-C_0$$\n",
        "\n",
        "## *Ejercicio para calcular el Valor Presente Neto*\n",
        "\n",
        "Supongamos que la empresa está considerando un proyecto con una inversión inicial de $10,000 y espera recibir flujos de caja de $3,000 en cada uno de los próximos tres años. La tasa de descuento es del 5%.\n",
        "\n",
        "*Paso 2: Cálculo del VPN en Python*\n",
        "\n",
        "**1. Declaración de Variables:**\n",
        "\n",
        "Empieza por declarar las variables que usarás en el cálculo del VPN:\n"
      ],
      "metadata": {
        "id": "JP-cxqjuhJ-k"
      }
    },
    {
      "cell_type": "code",
      "execution_count": 2,
      "metadata": {
        "id": "jOBZ7EAnhABE"
      },
      "outputs": [],
      "source": [
        "inversion_inicial = 1000000\n",
        "flujo_año_1 = 3500\n",
        "flujo_año_2 = 3300\n",
        "flujo_año_3 = 3520\n",
        "tasa_descuento = 0.06"
      ]
    },
    {
      "cell_type": "markdown",
      "source": [
        "**2. Cálculo del VPN:**\n",
        "Usa las variables declaradas para calcular el VPN del proyecto:"
      ],
      "metadata": {
        "id": "a1tWI55aoOjP"
      }
    },
    {
      "cell_type": "code",
      "source": [
        "vpn = (flujo_año_1 / (1 + tasa_descuento)**1) + \\\n",
        "      (flujo_año_2 / (1 + tasa_descuento)**2) + \\\n",
        "      (flujo_año_3 / (1 + tasa_descuento)**3) - inversion_inicial\n",
        "print(\"El valor Presente Neto (VPN) es:\", vpn)"
      ],
      "metadata": {
        "colab": {
          "base_uri": "https://localhost:8080/"
        },
        "id": "vER67NvNpGAN",
        "outputId": "9c530dc0-b324-45f3-c3dd-69e1f4453b33"
      },
      "execution_count": null,
      "outputs": [
        {
          "output_type": "stream",
          "name": "stdout",
          "text": [
            "El valor Presente Neto (VPN) es: -1830.2559118885656\n"
          ]
        }
      ]
    },
    {
      "cell_type": "markdown",
      "source": [
        "**3. Interpretación del Resultado:**\n",
        "Una vez realizado el cálculo, interpreta el resultado del VPN para determinar la viabilidad del proyecto:\n"
      ],
      "metadata": {
        "id": "tzNFFUS3qamQ"
      }
    },
    {
      "cell_type": "code",
      "source": [
        "if vpn > 0:\n",
        "  print(\"El proyecto es viable, ya que el VPN es positivo.\")\n",
        "else:\n",
        "  print(\"El proyecto no es viable, ya que el VPN es negativo.\")\n"
      ],
      "metadata": {
        "colab": {
          "base_uri": "https://localhost:8080/"
        },
        "id": "xDqeusX-qnZ5",
        "outputId": "423ac694-17f4-49fe-a97b-b682252f7f2f"
      },
      "execution_count": null,
      "outputs": [
        {
          "output_type": "stream",
          "name": "stdout",
          "text": [
            "El proyecto no es viable, ya que el VPN es negativo.\n"
          ]
        }
      ]
    },
    {
      "cell_type": "markdown",
      "source": [
        "\n",
        "\n",
        "*   Si el valor impreso de vpn es positivo, escribe  que el proyecto es viable.\n",
        "*  Si es negativo, indica que el proyecto no es viable.\n",
        "\n",
        "\n"
      ],
      "metadata": {
        "id": "Sb7RgBa7rI-p"
      }
    }
  ]
}
